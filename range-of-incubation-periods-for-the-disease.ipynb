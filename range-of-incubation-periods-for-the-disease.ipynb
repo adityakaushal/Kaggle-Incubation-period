{
 "cells": [
  {
   "cell_type": "markdown",
   "metadata": {},
   "source": [
    "# ****Range of incubation periods for the disease(Covid-19) in humans****"
   ]
  },
  {
   "cell_type": "code",
   "execution_count": 1,
   "metadata": {},
   "outputs": [],
   "source": [
    "import numpy as np\n",
    "import pandas as pd\n",
    "import json\n",
    "import re\n",
    "import os\n",
    "from matplotlib import style\n",
    "from tqdm import tqdm\n",
    "style.use('fivethirtyeight')\n",
    "import matplotlib.pyplot as plt\n",
    "%matplotlib inline\n",
    "plt.rcParams.update({'figure.figsize':(10,8),'figure.dpi':(70)})\n",
    "plt.style.use(['fivethirtyeight'])"
   ]
  },
  {
   "cell_type": "markdown",
   "metadata": {},
   "source": [
    "# ****These are the directories where the articles are saved.****"
   ]
  },
  {
   "cell_type": "code",
   "execution_count": 2,
   "metadata": {
    "_cell_guid": "79c7e3d0-c299-4dcb-8224-4455121ee9b0",
    "_uuid": "d629ff2d2480ee46fbb7e2d37f6b5fab8052498a"
   },
   "outputs": [],
   "source": [
    "root_dirs = ['/kaggle/input/CORD-19-research-challenge']\n",
    "dirs = ['biorxiv_medrxiv', 'comm_use_subset', 'noncomm_use_subset', 'custom_license']\n",
    "docs = list()"
   ]
  },
  {
   "cell_type": "markdown",
   "metadata": {},
   "source": [
    "The below snippet parses the JSON files using the key and values parsion and then saving the Title, Abstract and the Text of the Scholarly Article"
   ]
  },
  {
   "cell_type": "code",
   "execution_count": 3,
   "metadata": {},
   "outputs": [],
   "source": [
    "for rd in root_dirs:\n",
    "    for d in dirs:\n",
    "        for file in (os.listdir(f\"{rd}/{d}/{d}\")):\n",
    "            file_path = f\"{rd}/{d}/{d}/{file}\"\n",
    "            j = json.load(open(file_path,'rb'))\n",
    "            title = j['metadata']['title']\n",
    "            \n",
    "            try:\n",
    "                abstract = j['abstract'][0]['text']\n",
    "            except:\n",
    "                abstract = ''\n",
    "                \n",
    "            full_text = ''\n",
    "            for text in j['body_text']:\n",
    "                full_text = full_text + text['text'] + '\\n\\n'\n",
    "            docs.append([title, abstract, full_text])\n",
    "df = pd.DataFrame(docs, columns = ['Title', 'Abstract', 'full_text'])\n",
    "keyword = \"incubation\"\n",
    "incubation = df[df['full_text'].str.contains(keyword)]"
   ]
  },
  {
   "cell_type": "code",
   "execution_count": 4,
   "metadata": {},
   "outputs": [
    {
     "data": {
      "text/html": [
       "<div>\n",
       "<style scoped>\n",
       "    .dataframe tbody tr th:only-of-type {\n",
       "        vertical-align: middle;\n",
       "    }\n",
       "\n",
       "    .dataframe tbody tr th {\n",
       "        vertical-align: top;\n",
       "    }\n",
       "\n",
       "    .dataframe thead th {\n",
       "        text-align: right;\n",
       "    }\n",
       "</style>\n",
       "<table border=\"1\" class=\"dataframe\">\n",
       "  <thead>\n",
       "    <tr style=\"text-align: right;\">\n",
       "      <th></th>\n",
       "      <th>Title</th>\n",
       "      <th>Abstract</th>\n",
       "      <th>full_text</th>\n",
       "    </tr>\n",
       "  </thead>\n",
       "  <tbody>\n",
       "    <tr>\n",
       "      <th>0</th>\n",
       "      <td>SPINT2 inhibits proteases involved in activati...</td>\n",
       "      <td>Viruses possessing class I fusion proteins req...</td>\n",
       "      <td>Influenza-like illnesses (ILIs) represent a si...</td>\n",
       "    </tr>\n",
       "    <tr>\n",
       "      <th>3</th>\n",
       "      <td>Ruler elements in chromatin remodelers set nuc...</td>\n",
       "      <td>Arrays of regularly spaced nucleosomes dominat...</td>\n",
       "      <td>Arrays of regularly spaced nucleosomes dominat...</td>\n",
       "    </tr>\n",
       "    <tr>\n",
       "      <th>5</th>\n",
       "      <td>Transmission of corona virus disease 2019 duri...</td>\n",
       "      <td>The ongoing outbreak of novel corona virus dis...</td>\n",
       "      <td>The corona virus disease has spread rapidly th...</td>\n",
       "    </tr>\n",
       "    <tr>\n",
       "      <th>7</th>\n",
       "      <td>Clinical outcomes of 402 patients with COVID-2...</td>\n",
       "      <td>The SARS-CoV-2 outbreak is causing widespread ...</td>\n",
       "      <td>In December 2019, a cluster of \"atypical\" pneu...</td>\n",
       "    </tr>\n",
       "    <tr>\n",
       "      <th>9</th>\n",
       "      <td>Rapid Detection of Novel Coronavirus (COVID-19...</td>\n",
       "      <td>Novel Corona virus (COVID-19 or 2019-nCoV) is ...</td>\n",
       "      <td>The recent outbreak of Novel Coronavirus (COVI...</td>\n",
       "    </tr>\n",
       "  </tbody>\n",
       "</table>\n",
       "</div>"
      ],
      "text/plain": [
       "                                               Title  \\\n",
       "0  SPINT2 inhibits proteases involved in activati...   \n",
       "3  Ruler elements in chromatin remodelers set nuc...   \n",
       "5  Transmission of corona virus disease 2019 duri...   \n",
       "7  Clinical outcomes of 402 patients with COVID-2...   \n",
       "9  Rapid Detection of Novel Coronavirus (COVID-19...   \n",
       "\n",
       "                                            Abstract  \\\n",
       "0  Viruses possessing class I fusion proteins req...   \n",
       "3  Arrays of regularly spaced nucleosomes dominat...   \n",
       "5  The ongoing outbreak of novel corona virus dis...   \n",
       "7  The SARS-CoV-2 outbreak is causing widespread ...   \n",
       "9  Novel Corona virus (COVID-19 or 2019-nCoV) is ...   \n",
       "\n",
       "                                           full_text  \n",
       "0  Influenza-like illnesses (ILIs) represent a si...  \n",
       "3  Arrays of regularly spaced nucleosomes dominat...  \n",
       "5  The corona virus disease has spread rapidly th...  \n",
       "7  In December 2019, a cluster of \"atypical\" pneu...  \n",
       "9  The recent outbreak of Novel Coronavirus (COVI...  "
      ]
     },
     "execution_count": 4,
     "metadata": {},
     "output_type": "execute_result"
    }
   ],
   "source": [
    "incubation.head()"
   ]
  },
  {
   "cell_type": "code",
   "execution_count": 5,
   "metadata": {},
   "outputs": [],
   "source": [
    "text = incubation['full_text'].values"
   ]
  },
  {
   "cell_type": "markdown",
   "metadata": {},
   "source": [
    "Utilizing the Regular Expression rather a naive method to get the days in the numeric form and append the incubation days in the list"
   ]
  },
  {
   "cell_type": "code",
   "execution_count": 6,
   "metadata": {},
   "outputs": [
    {
     "name": "stdout",
     "output_type": "stream",
     "text": [
      "[10.0, 5.0, 24.0, 7.0, 5.0, 20.0, 20.0, 5.0, 7.0, 14.0, 14.0, 3.0, 14.0, 11.0, 6.0, 11.0, 14.0, 5.0, 2.0, 14.0, 24.0, 18.0, 2.0, 5.0, 5.0, 5.0, 2.0, 10.0, 7.0, 3.0, 15.0, 14.0, 14.0, 3.0, 5.0, 5.0, 24.0, 5.0, 1.0, 4.0, 5.0, 5.0, 42.0, 7.0, 7.0, 6.0, 14.0, 17.0, 24.0, 14.0, 8.0, 8.0, 28.0, 14.0, 4.0, 14.0, 21.0, 7.0, 3.0, 5.0, 3.0, 3.0, 7.0, 6.0, 4.0, 5.0, 14.0, 9.0, 22.0, 22.0, 22.0, 3.0, 3.0, 14.0, 14.0, 7.0, 14.0, 10.0, 18.0, 10.0, 7.0, 10.0, 13.0, 1.0, 8.0, 14.0, 3.0, 3.0, 3.0, 5.0, 14.0, 11.0, 11.0, 2.0, 22.0, 5.0, 10.0, 5.0, 3.0, 6.0, 3.0, 4.0, 4.0, 28.0, 3.0, 10.0, 3.0, 3.0, 14.0, 5.0, 4.0, 3.0, 10.0, 5.0, 21.0, 12.0, 20.0, 10.0, 2.0, 6.0, 4.0, 6.0, 6.0, 7.0, 6.0, 21.0, 5.0, 3.0, 3.0, 3.0, 7.0, 3.0, 4.0, 14.0, 2.0, 7.0, 42.0, 10.0, 30.0, 5.0, 5.0, 10.0, 3.0, 3.0, 2.0, 7.0, 3.0, 14.0, 28.0, 21.0, 25.0, 4.0, 5.0, 10.0, 6.0, 5.0, 2.0, 16.0, 6.0, 3.0, 9.0, 6.0, 2.0, 6.0, 4.0, 2.0, 4.0, 5.0, 25.0, 10.0, 21.0, 14.0, 3.0, 3.0, 8.0, 4.0, 6.0, 12.0, 3.0, 3.0, 3.0, 3.0, 2.0, 2.0, 5.0, 2.0, 5.0, 8.0, 5.0, 4.0, 2.0, 5.0, 12.0, 5.0, 2.0, 5.0, 4.0, 5.0, 2.0, 3.0, 3.0, 3.0, 1.0, 10.0, 3.0, 1.0, 5.0, 13.0, 21.0, 21.0, 10.0, 90.0, 90.0, 15.0, 10.0, 4.0, 3.0, 7.0, 3.0, 4.0, 5.0, 15.0, 2.0, 2.0, 24.0, 4.0, 3.0, 12.0, 15.0, 15.0, 15.0, 4.0, 15.0, 3.0, 56.0, 56.0, 2.0, 2.0, 3.0, 7.0, 14.0, 5.0, 5.0, 5.0, 3.0, 3.0, 7.0, 14.0, 14.0, 4.0, 3.0, 8.0, 7.0, 4.0, 14.0, 4.0, 4.0, 21.0, 21.0, 6.0, 6.0, 2.0, 7.0, 4.0, 28.0, 3.0, 3.0, 3.0, 3.0, 9.0, 16.0, 10.0, 18.0, 5.0, 40.0, 7.0, 7.0, 6.0, 5.0, 14.0, 13.0, 15.0, 7.0, 42.0, 5.0, 10.0, 6.0, 5.0, 4.0, 5.0, 3.0, 3.0, 21.0, 2.0, 5.0, 5.0, 5.0, 5.0, 14.0, 3.0, 5.0, 1.0, 14.0, 3.0, 6.0, 6.0, 3.0, 3.0, 3.0, 3.0, 21.0, 6.0, 14.0, 14.0, 2.0, 10.0, 9.0, 3.0, 7.0, 6.0, 6.0, 12.0, 3.0, 3.0, 20.0, 5.0, 21.0, 3.0, 3.0, 3.0, 3.0, 5.0, 3.0, 6.0, 4.0, 21.0, 6.0, 5.0, 7.0, 6.0, 14.0, 5.0, 5.0, 6.0, 14.0, 15.0, 42.0, 2.0, 14.0, 10.0, 4.0, 5.0, 8.0, 8.0, 8.0, 5.0, 4.0, 14.0, 14.0, 7.0, 1.0, 3.0, 3.0, 14.0, 56.0, 5.0, 5.0, 14.0, 5.0, 2.0, 3.0, 10.0, 5.0, 6.0, 2.0, 5.0, 3.0, 5.0, 10.0, 10.0, 14.0, 4.0, 3.0, 7.0, 14.0, 4.0, 4.0, 6.0, 13.0, 2.0, 14.0, 1.0, 3.0, 4.0, 6.0, 21.0, 3.0, 16.0, 7.0, 6.0, 2.0, 5.0, 5.0, 4.0, 3.0, 5.0, 6.0, 18.0, 7.0, 10.0, 10.0, 5.0, 5.0, 2.0, 5.0, 2.0, 7.0, 1.0, 16.0, 12.0, 15.0, 3.0, 10.0, 7.0, 3.0, 5.0, 3.0, 3.0, 42.0, 10.0, 3.0, 15.0, 5.0, 4.0, 7.0, 2.0, 2.0, 2.0, 10.0, 5.0, 21.0, 16.0, 9.0, 10.0, 4.0, 5.0, 5.0, 5.0, 3.0, 7.0, 5.0, 7.0, 4.0, 4.0, 2.0, 5.0, 4.0, 15.0, 28.0, 5.0, 28.0, 7.0, 4.0, 14.0, 6.0, 2.0, 5.0, 8.0, 17.0, 3.0, 6.0, 7.0, 14.0, 6.0, 17.0, 10.0, 7.0, 4.0, 14.0, 14.0, 21.0, 14.0, 18.0, 7.0, 5.0, 21.0, 21.0, 5.0, 3.0, 2.0, 3.0, 13.0, 4.0, 2.0, 5.0, 5.0, 14.0, 5.0, 49.0, 6.0, 5.0, 12.0, 21.0, 10.0, 3.0, 7.0, 3.0, 14.0, 14.0, 5.0, 14.0, 4.0, 20.0, 5.0, 5.0, 6.0, 28.0, 5.0, 2.0, 7.0, 2.0, 16.0, 14.0, 2.0, 14.0, 14.0, 1.0, 1.0, 5.0, 14.0, 7.0, 2.0, 10.0, 3.0, 7.0, 6.0, 14.0, 8.0, 6.0, 7.0, 10.0, 10.0, 7.0, 12.0, 5.0, 29.0, 7.0, 3.0, 15.0, 14.0, 5.0, 17.0, 5.0, 10.0, 12.0, 5.0, 14.0, 10.0, 14.0, 2.0, 4.0, 21.0, 5.0, 16.0, 6.0, 7.0, 10.0, 2.0, 2.0, 14.0, 16.0, 3.0, 11.0, 21.0, 3.0, 14.0, 20.0, 30.0, 3.0, 5.0, 6.0, 2.0, 6.0, 14.0, 9.0, 7.0, 15.0, 14.0, 10.0, 14.0, 7.0, 12.0, 3.0, 7.0, 60.0, 12.0, 2.0, 2.0, 28.0, 90.0, 3.0, 56.0, 3.0, 5.0, 10.0, 14.0, 17.0, 21.0, 14.0, 12.0, 10.0, 4.0, 10.0, 7.0, 3.0, 3.0, 10.0, 14.0, 14.0, 3.0, 10.0, 8.0, 14.0, 9.0, 10.0, 10.0, 3.0, 7.0, 2.0, 14.0, 3.0, 10.0, 7.0, 6.0, 10.0, 2.0, 6.0, 6.0, 14.0, 2.0, 10.0, 3.0, 5.0, 2.0, 6.0, 10.0, 2.0, 28.0, 10.0, 7.0, 3.0, 2.0, 10.0, 7.0, 6.0, 14.0, 10.0, 3.0, 90.0, 6.0, 14.0, 15.0, 4.0, 3.0, 7.0, 5.0, 3.0, 7.0, 3.0, 4.0, 3.0, 3.0, 3.0, 10.0, 1.0, 4.0, 2.0, 20.0, 8.0, 5.0, 4.0, 10.0, 10.0, 6.0, 16.0, 16.0, 3.0, 14.0, 2.0, 7.0, 7.0, 12.0, 10.0, 21.0, 7.0, 20.0, 36.0, 7.0, 5.0, 10.0, 60.0, 7.0, 12.0, 1.0, 2.0, 5.0, 2.0, 7.0, 3.0, 5.0, 5.0, 6.0, 7.0, 30.0, 14.0, 14.0, 14.0, 3.0, 8.0, 5.0, 5.0, 10.0, 3.0, 3.0, 21.0, 21.0, 7.0, 45.0, 7.0, 12.0, 12.0, 3.0, 14.0, 5.0, 21.0, 14.0, 5.0, 7.0, 14.0, 20.0, 14.0, 20.0, 4.0, 48.0, 7.0, 14.0, 3.0, 3.0, 10.0, 21.0, 10.0, 7.0, 14.0, 6.0, 3.0, 4.0, 14.0, 10.0, 11.0, 3.0, 14.0, 6.0, 14.0, 2.0, 6.0, 3.0, 14.0, 4.0, 10.0, 3.0, 3.0, 2.0, 3.0, 7.0, 4.0, 21.0, 14.0, 10.0, 7.0, 10.0, 3.0, 19.0, 2.0, 7.0, 5.0, 7.0, 7.0, 5.0, 6.0, 3.0, 3.0, 5.0, 7.0, 14.0, 4.0, 5.0, 14.0, 2.0, 30.0, 3.0, 4.0, 3.0, 61.0, 28.0, 15.0, 30.0, 6.0, 4.0, 16.0, 6.0, 10.0, 3.0, 1.0, 4.0, 9.0, 4.0, 5.0, 4.0, 15.0, 3.0, 4.0, 10.0, 3.0, 3.0, 3.0, 18.0, 1.0, 3.0, 3.0, 3.0, 4.0, 3.0, 4.0, 7.0, 3.0, 5.0, 18.0, 6.0, 7.0, 14.0, 8.0, 10.0, 3.0, 7.0, 5.0, 3.0, 5.0, 30.0, 24.0, 7.0, 4.0, 14.0, 8.0, 7.0, 2.0, 32.0, 14.0, 10.0, 14.0, 4.0, 10.0, 2.0, 3.0, 3.0, 3.0, 5.0, 20.0, 4.0, 9.0, 4.0, 2.0, 10.0, 5.0, 3.0, 3.0, 3.0, 6.0, 6.0, 14.0, 14.0, 38.0, 38.0, 2.0, 2.0, 14.0, 10.0, 3.0, 3.0, 1.0, 5.0, 49.0, 10.0, 4.0, 2.0, 10.0, 5.0, 5.0, 5.0, 8.0, 3.0, 6.0, 2.0, 15.0, 2.0, 3.0, 5.0, 6.0, 5.0, 12.0, 10.0, 5.0, 3.0, 6.0, 10.0, 7.0, 5.0, 21.0, 3.0, 3.0, 18.0, 2.0, 8.0, 7.0, 7.0, 14.0, 3.0, 2.0, 20.0, 8.0, 3.0, 1.0, 7.0, 3.0, 9.0, 1.0, 7.0, 3.0, 3.0, 3.0, 5.0, 10.0, 35.0, 14.0, 8.0, 10.0, 10.0, 3.0, 3.0, 12.0, 7.0, 14.0, 14.0, 21.0, 7.0, 7.0, 8.0, 6.0, 4.0, 10.0, 21.0, 14.0, 2.0, 3.0, 3.0, 10.0, 4.0, 28.0, 8.0, 20.0, 11.0, 21.0, 7.0, 6.0, 8.0, 7.0, 3.0, 2.0, 7.0, 3.0, 5.0, 7.0, 3.0, 14.0, 15.0, 9.0, 7.0, 4.0, 3.0, 2.0, 6.0, 27.0, 7.0, 5.0, 10.0, 14.0, 4.0, 8.0, 6.0, 10.0, 2.0, 5.0, 4.0, 8.0, 10.0, 10.0, 1.0, 10.0, 20.0, 7.0, 12.0, 2.0, 2.0, 6.0, 5.0, 7.0, 5.0, 3.0, 4.0, 5.0, 10.0, 20.0, 3.0, 3.0, 14.0, 2.0, 3.0, 3.0, 7.0, 8.0, 6.0, 4.0, 3.0, 4.0, 4.0, 5.0, 20.0, 6.0, 2.0, 7.0, 20.0, 2.0, 10.0, 16.0, 6.0, 3.0, 7.0, 3.0, 4.0, 3.0, 4.0, 3.0, 3.0, 9.0, 10.0, 3.0, 2.0, 6.0, 5.0, 8.0, 3.0, 14.0, 7.0, 14.0, 7.0, 10.0, 7.0, 4.0, 12.0, 14.0, 2.0, 3.0, 90.0, 10.0, 5.0, 2.0, 5.0, 12.0, 8.0, 10.0, 14.0, 8.0, 3.0, 15.0, 19.0, 2.0, 5.0, 6.0, 9.0, 2.0, 3.0, 7.0, 30.0, 7.0, 7.0, 4.0, 6.0, 3.0, 5.0, 10.0, 2.0, 3.0, 3.0, 1.0, 8.0, 3.0, 6.0, 14.0, 10.0, 5.0, 10.0, 20.0, 4.0, 20.0, 1.0, 3.0, 4.0, 3.0, 8.0, 14.0, 5.0, 5.0, 3.0, 10.0, 33.0, 7.0, 6.0, 2.0, 15.0, 7.0, 2.0, 14.0, 6.0, 2.0, 20.0, 14.0, 3.0, 2.0, 3.0, 7.0, 10.0, 5.0, 8.0, 42.0, 7.0, 6.0, 10.0, 2.0, 10.0, 5.0, 10.0, 3.0, 28.0, 1.0, 4.0, 7.0, 4.0, 4.0, 7.0, 8.0, 14.0, 20.0, 21.0, 12.0, 5.0, 35.0, 21.0, 14.0, 7.0, 12.0, 2.0, 2.0, 5.0, 4.0, 5.0, 5.0, 4.0, 2.0, 5.0, 21.0, 12.0, 3.0, 7.0, 90.0, 5.0, 10.0, 6.0, 30.0, 8.0, 3.0, 4.0, 4.0, 3.0, 4.0, 5.0, 21.0, 14.0, 4.0, 8.0, 6.0, 6.0, 6.0, 8.0, 10.0, 14.0, 5.0, 5.0, 4.0, 8.0, 17.0, 10.0, 4.0, 8.0, 7.0, 44.0, 3.0, 3.0, 18.0, 8.0, 15.0, 6.0, 22.0, 12.0, 6.0, 42.0, 3.0, 17.0, 14.0, 2.0, 12.0, 28.0, 22.0, 28.0, 2.0, 2.0, 14.0, 14.0, 20.0, 14.0, 14.0, 3.0, 4.0, 7.0, 15.0, 1.0, 2.0, 11.0, 4.0, 7.0, 21.0, 12.0, 3.0, 10.0, 10.0, 6.0, 2.0, 7.0, 3.0, 12.0, 4.0, 39.0, 39.0, 4.0, 3.0, 1.0, 3.0, 1.0, 10.0, 9.0, 21.0, 14.0, 10.0, 1.0, 2.0, 6.0, 5.0, 21.0, 2.0, 2.0, 2.0, 7.0, 7.0, 8.0, 18.0, 5.0, 10.0, 7.0, 4.0, 14.0, 4.0, 10.0, 10.0, 16.0, 2.0, 7.0, 5.0, 4.0, 4.0, 4.0, 7.0, 10.0, 14.0, 3.0, 3.0, 11.0, 12.0, 3.0, 60.0, 21.0, 2.0, 21.0, 4.0, 6.0, 21.0, 4.0, 7.0, 2.0, 9.0, 10.0, 10.0, 4.0, 5.0, 5.0, 5.0, 2.0, 5.0, 5.0, 7.0, 6.0, 6.0, 29.0, 29.0, 5.0, 14.0, 3.0, 10.0, 10.0, 4.0, 3.0, 5.0, 6.0, 14.0, 9.0, 14.0, 10.0, 3.0, 2.0, 2.0, 12.0, 8.0, 10.0, 14.0, 4.0, 5.0, 3.0, 12.0, 7.0, 6.0, 14.0, 5.0, 5.0, 3.0, 3.0, 2.0, 2.0, 10.0, 4.0, 5.0, 14.0, 5.0, 8.0, 18.0, 14.0, 10.0, 14.0, 14.0, 2.0, 5.0, 3.0, 4.0, 5.0, 2.0, 2.0, 13.0, 36.0, 8.0, 4.0, 3.0, 3.0, 2.0, 14.0, 2.0, 8.0, 10.0, 6.0, 5.0, 6.0, 4.0, 21.0, 21.0, 21.0, 15.0, 21.0, 14.0, 7.0, 4.0, 7.0, 10.0, 5.0, 5.0, 3.0, 2.0, 4.0, 5.0, 10.0, 4.0, 7.0, 5.0, 7.0, 7.0, 2.0, 3.0, 4.0, 3.0, 3.0, 11.0, 14.0, 10.0, 21.0, 16.0, 14.0, 3.0, 5.0, 3.0, 7.0, 14.0, 5.0, 4.0, 42.0, 3.0, 7.0, 14.0, 4.0, 7.0, 4.0, 4.0, 14.0, 10.0, 50.0, 7.0, 5.0, 5.0, 2.0, 3.0, 3.0, 10.0, 43.0, 4.0, 7.0, 7.0, 10.0, 7.0, 14.0, 14.0, 12.0, 3.0, 60.0, 3.0, 7.0, 7.0, 4.0, 10.0, 2.0, 1.0, 2.0, 2.0, 30.0, 7.0, 7.0, 7.0, 7.0, 3.0, 3.0, 7.0, 33.0, 3.0, 3.0, 5.0, 7.0, 7.0, 14.0, 14.0, 51.0, 7.0, 4.0, 4.0, 7.0, 14.0, 1.0, 7.0, 7.0, 14.0, 5.0, 2.0, 4.0, 7.0, 3.0, 3.0, 21.0, 3.0, 15.0, 14.0, 12.0, 28.0, 90.0, 1.0, 40.0, 12.0, 12.0, 14.0, 2.0, 2.0, 2.0, 2.0, 14.0, 26.0, 7.0, 3.0, 7.0, 14.0, 4.0, 7.0, 2.0, 7.0, 90.0, 14.0, 3.0, 10.0, 7.0, 3.0, 7.0, 14.0, 10.0, 18.0, 9.0, 3.0, 7.0, 5.0, 9.0, 31.0, 9.0, 21.0, 7.0, 1.0, 5.0, 10.0, 14.0, 10.0, 6.0, 12.0, 2.0, 3.0, 7.0, 10.0, 6.0, 21.0, 21.0, 21.0, 14.0, 6.0, 2.0, 5.0, 3.0, 3.0, 3.0, 90.0, 30.0, 10.0, 14.0, 4.0, 7.0, 2.0, 2.0, 2.0, 6.0, 24.0, 10.0, 30.0, 43.0, 16.0, 4.0, 10.0, 2.0, 2.0, 3.0, 7.0, 4.0, 10.0, 7.0, 6.0, 14.0, 14.0, 2.0, 3.0, 7.0, 42.0, 21.0, 8.0, 2.0, 6.0, 1.0, 4.0, 14.0, 33.0, 1.0, 7.0, 3.0, 12.0, 21.0, 5.0, 10.0, 10.0, 14.0, 3.0, 25.0, 5.0, 21.0, 21.0, 14.0, 7.0, 7.0, 30.0, 3.0, 10.0, 7.0, 4.0, 4.0, 7.0, 2.0, 5.0, 6.0, 1.0, 1.0, 7.0, 5.0, 10.0, 60.0, 7.0, 12.0, 14.0, 2.0, 10.0, 15.0, 3.0, 10.0, 3.0, 3.0, 4.0, 10.0, 10.0, 18.0, 7.0, 2.0, 2.0, 4.0, 8.0, 4.0, 7.0, 72.0]\n"
     ]
    }
   ],
   "source": [
    "keyword_time = list()\n",
    "for t in text:\n",
    "    for sentences in t.split(\". \"):\n",
    "        if keyword in sentences:\n",
    "            single_day = re.findall(r\" \\d{1,2} day\", sentences)\n",
    "            \n",
    "            if len(single_day) == 1:\n",
    "                num = single_day[0].split(\" \")\n",
    "                keyword_time.append(float(num[1]))\n",
    "print(keyword_time)"
   ]
  },
  {
   "cell_type": "code",
   "execution_count": 7,
   "metadata": {},
   "outputs": [
    {
     "name": "stdout",
     "output_type": "stream",
     "text": [
      "The mean projected incubtion time is: 9.514988009592326\n"
     ]
    }
   ],
   "source": [
    "print(\"The mean projected incubtion time is:\",np.mean(keyword_time))"
   ]
  },
  {
   "cell_type": "markdown",
   "metadata": {},
   "source": [
    "Plotting the Days in the Histogram"
   ]
  },
  {
   "cell_type": "code",
   "execution_count": 8,
   "metadata": {},
   "outputs": [
    {
     "data": {
      "text/plain": [
       "Text(0.5, 0, 'Incubation Time')"
      ]
     },
     "execution_count": 8,
     "metadata": {},
     "output_type": "execute_result"
    },
    {
     "data": {
      "image/png": "[encoded data removed]",
      "text/plain": [
       "<Figure size 700x560 with 1 Axes>"
      ]
     },
     "metadata": {},
     "output_type": "display_data"
    }
   ],
   "source": [
    "plt.hist(keyword_time, bins = 50, density = True,  width = 8.0, color = 'skyblue')\n",
    "plt.ylabel(\"Bin Counts\")\n",
    "plt.xlabel(\"Incubation Time\")"
   ]
  },
  {
   "cell_type": "code",
   "execution_count": null,
   "metadata": {},
   "outputs": [],
   "source": []
  }
 ],
 "metadata": {
  "kernelspec": {
   "display_name": "Python 3",
   "language": "python",
   "name": "python3"
  },
  "language_info": {
   "codemirror_mode": {
    "name": "ipython",
    "version": 3
   },
   "file_extension": ".py",
   "mimetype": "text/x-python",
   "name": "python",
   "nbconvert_exporter": "python",
   "pygments_lexer": "ipython3",
   "version": "3.6.6"
  }
 },
 "nbformat": 4,
 "nbformat_minor": 4
}
